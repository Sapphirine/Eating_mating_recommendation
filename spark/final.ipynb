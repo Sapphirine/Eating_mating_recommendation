{
 "cells": [
  {
   "cell_type": "code",
   "execution_count": 2,
   "metadata": {
    "collapsed": false
   },
   "outputs": [],
   "source": [
    "from pyspark.mllib.recommendation import Rating"
   ]
  },
  {
   "cell_type": "code",
   "execution_count": 3,
   "metadata": {
    "collapsed": true
   },
   "outputs": [],
   "source": [
    "import numpy as np\n",
    "import json, time\n",
    "from operator import add"
   ]
  },
  {
   "cell_type": "code",
   "execution_count": 4,
   "metadata": {
    "collapsed": true
   },
   "outputs": [],
   "source": [
    "# Load and parse the data\n",
    "data = sc.textFile(\"data/reviews.jl\")\n",
    "ratings = data.map(lambda l: json.loads(l))\\\n",
    "    .map(lambda l: Rating(int(l[0]), int(l[1]), float(l[2]))).cache()"
   ]
  },
  {
   "cell_type": "code",
   "execution_count": 5,
   "metadata": {
    "collapsed": true
   },
   "outputs": [],
   "source": [
    "business_dict = sc.textFile(\"data/business.jl\").map(lambda r: json.loads(r))\\\n",
    "                .map(lambda  r: (r[0], (r[1], r[2]))).collectAsMap()\n",
    "\n",
    "user_dict = sc.textFile(\"data/user.jl\").map(lambda r: json.loads(r))\\\n",
    "                .map(lambda  r: (r[0], r[1])).collectAsMap()"
   ]
  },
  {
   "cell_type": "code",
   "execution_count": 14,
   "metadata": {
    "collapsed": false
   },
   "outputs": [
    {
     "name": "stdout",
     "output_type": "stream",
     "text": [
      "Time Cost: 0.12s\n"
     ]
    }
   ],
   "source": [
    "def loadModel():\n",
    "    start_time = time.time()\n",
    "    # Load vUser\n",
    "    vUser = sc.pickleFile(\"target/final/vUser\")\n",
    "    # Load vBusiness\n",
    "    vBusiness = sc.pickleFile(\"target/final/vBusiness\")\n",
    "    # Load Model\n",
    "#     model = MatrixFactorizationModel.load(sc, save_dir+name+\"/cfModel\")\n",
    "    end_time = time.time()\n",
    "    print \"Time Cost: %.2fs\"%(end_time - start_time)\n",
    "    return vUser, vBusiness\n",
    "\n",
    "vUser, vBusiness = loadModel()"
   ]
  },
  {
   "cell_type": "code",
   "execution_count": 15,
   "metadata": {
    "collapsed": false
   },
   "outputs": [
    {
     "data": {
      "text/plain": [
       "MapPartitionsRDD[22] at objectFile at NativeMethodAccessorImpl.java:-2"
      ]
     },
     "execution_count": 15,
     "metadata": {},
     "output_type": "execute_result"
    }
   ],
   "source": [
    "vUser.cache()\n",
    "vBusiness.cache()"
   ]
  },
  {
   "cell_type": "code",
   "execution_count": 16,
   "metadata": {
    "collapsed": false
   },
   "outputs": [
    {
     "name": "stdout",
     "output_type": "stream",
     "text": [
      "686556\n",
      "85539\n"
     ]
    }
   ],
   "source": [
    "print vUser.count()\n",
    "print vBusiness.count()"
   ]
  },
  {
   "cell_type": "code",
   "execution_count": 23,
   "metadata": {
    "collapsed": true
   },
   "outputs": [],
   "source": [
    "def getKNN(vUser, vu, k):\n",
    "    return vUser.map(lambda r: (r[0], np.linalg.norm(vu-r[1]))).top(k, key=lambda r: -r[1])\n",
    "\n",
    "def getUserFeature(vUser, uid):\n",
    "    a = vUser.filter(lambda r: r[0] == uid)\n",
    "    if a.isEmpty(): return None\n",
    "    return np.array(a.first()[1])\n",
    "\n",
    "def getProductFeature(vBusiness, bid):\n",
    "    a = vBusiness.filter(lambda r: r[0] == bid)\n",
    "    if a.isEmpty(): return None\n",
    "    return np.array(a.first()[1])\n",
    "\n",
    "def getRecommedProduct(vBusiness, vu, num=10):\n",
    "    return map(\n",
    "            lambda r: r[0],\n",
    "            vBusiness.filter(lambda r: r[0] in business_dict)\\\n",
    "                .map(lambda r: (r[0], np.array(r[1]).dot(vu))).top(num, key=lambda r: r[1])\n",
    "        )\n",
    "\n",
    "def getTaste(uid):\n",
    "    start_time = time.time()\n",
    "    vu = getUserFeature(vUser, uid)\n",
    "    if vu is None: return [], [], []\n",
    "    res = getRecommedProduct(vBusiness, vu, 1000)\n",
    "    recomd = map(lambda r: business_dict[r][0], res[:5])\n",
    "    users = map(lambda r: user_dict[r[0]], getKNN(vUser, vu, 6)[1:] )\n",
    "    taste = sc.parallelize(res).flatMap(lambda r: business_dict[r][1])\\\n",
    "        .map(lambda r: (r, 1)).reduceByKey(add).takeOrdered(50, key=lambda r: -r[1])\n",
    "    end_time = time.time()\n",
    "    print \"Time Cost: %.2fs\"%(end_time - start_time)\n",
    "    return recomd, users, taste"
   ]
  },
  {
   "cell_type": "code",
   "execution_count": 26,
   "metadata": {
    "collapsed": false
   },
   "outputs": [
    {
     "name": "stdout",
     "output_type": "stream",
     "text": [
      "Start Calculation On 1\n",
      "Time Cost: 14.54s\n",
      "Start Calculation On 2\n",
      "Time Cost: 14.00s\n",
      "Start Calculation On 3\n",
      "Time Cost: 13.31s\n",
      "Start Calculation On 4\n",
      "Time Cost: 11.41s\n",
      "Start Calculation On 5\n",
      "Time Cost: 15.73s\n",
      "Start Calculation On 6\n",
      "Time Cost: 17.02s\n",
      "Start Calculation On 7\n",
      "Time Cost: 15.03s\n",
      "Start Calculation On 8\n",
      "Time Cost: 11.76s\n",
      "Start Calculation On 9\n",
      "Time Cost: 13.33s\n",
      "Start Calculation On 10\n",
      "Time Cost: 13.72s\n"
     ]
    }
   ],
   "source": [
    "with open('cache.jl', \"a\") as f:\n",
    "    for i in range(1, 11):\n",
    "        print \"Start Calculation On %d\"%i\n",
    "        r,u,t = getTaste(i)\n",
    "        f.write( json.dumps( [i, r, u, t] ) )\n",
    "        f.write('\\n')\n",
    "        f.flush()\n",
    "f.close()"
   ]
  },
  {
   "cell_type": "code",
   "execution_count": 27,
   "metadata": {
    "collapsed": false
   },
   "outputs": [
    {
     "name": "stdout",
     "output_type": "stream",
     "text": [
      "Start Calculation On 11\n",
      "Time Cost: 14.51s\n",
      "Start Calculation On 12\n",
      "Time Cost: 11.71s\n",
      "Start Calculation On 13\n",
      "Time Cost: 14.67s\n",
      "Start Calculation On 14\n",
      "Time Cost: 13.64s\n",
      "Start Calculation On 15\n",
      "Time Cost: 12.95s\n",
      "Start Calculation On 16\n",
      "Time Cost: 11.27s\n",
      "Start Calculation On 17\n",
      "Time Cost: 12.79s\n",
      "Start Calculation On 18\n",
      "Time Cost: 12.79s\n",
      "Start Calculation On 19\n",
      "Time Cost: 13.28s\n",
      "Start Calculation On 20\n",
      "Time Cost: 11.76s\n"
     ]
    }
   ],
   "source": [
    "with open('cache.jl', \"a\") as f:\n",
    "    for i in range(11, 21):\n",
    "        print \"Start Calculation On %d\"%i\n",
    "        r,u,t = getTaste(i)\n",
    "        f.write( json.dumps( [i, r, u, t] ) )\n",
    "        f.write('\\n')\n",
    "        f.flush()\n",
    "f.close()"
   ]
  },
  {
   "cell_type": "code",
   "execution_count": 28,
   "metadata": {
    "collapsed": false
   },
   "outputs": [
    {
     "name": "stdout",
     "output_type": "stream",
     "text": [
      "Start Calculation On 21\n",
      "Time Cost: 13.86s\n",
      "Start Calculation On 22\n",
      "Time Cost: 13.06s\n",
      "Start Calculation On 23\n",
      "Time Cost: 13.56s\n",
      "Start Calculation On 24\n",
      "Time Cost: 11.32s\n",
      "Start Calculation On 25\n",
      "Time Cost: 12.84s\n",
      "Start Calculation On 26\n",
      "Time Cost: 15.51s\n",
      "Start Calculation On 27\n",
      "Time Cost: 13.06s\n",
      "Start Calculation On 28\n",
      "Time Cost: 11.33s\n",
      "Start Calculation On 29\n",
      "Time Cost: 17.19s\n",
      "Start Calculation On 30\n",
      "Time Cost: 13.62s\n"
     ]
    }
   ],
   "source": [
    "with open('cache.jl', \"a\") as f:\n",
    "    for i in range(21, 31):\n",
    "        print \"Start Calculation On %d\"%i\n",
    "        r,u,t = getTaste(i)\n",
    "        f.write( json.dumps( [i, r, u, t] ) )\n",
    "        f.write('\\n')\n",
    "        f.flush()\n",
    "f.close()"
   ]
  },
  {
   "cell_type": "code",
   "execution_count": 29,
   "metadata": {
    "collapsed": false
   },
   "outputs": [
    {
     "name": "stdout",
     "output_type": "stream",
     "text": [
      "Start Calculation On 31\n",
      "Time Cost: 15.55s\n",
      "Start Calculation On 32\n",
      "Time Cost: 11.37s\n",
      "Start Calculation On 33\n",
      "Time Cost: 12.74s\n",
      "Start Calculation On 34\n",
      "Time Cost: 13.10s\n",
      "Start Calculation On 35\n",
      "Time Cost: 12.94s\n",
      "Start Calculation On 36\n",
      "Time Cost: 11.31s\n",
      "Start Calculation On 37\n",
      "Time Cost: 12.82s\n",
      "Start Calculation On 38\n",
      "Time Cost: 13.11s\n",
      "Start Calculation On 39\n",
      "Time Cost: 12.76s\n",
      "Start Calculation On 40\n",
      "Time Cost: 11.13s\n"
     ]
    }
   ],
   "source": [
    "with open('cache.jl', \"a\") as f:\n",
    "    for i in range(31, 41):\n",
    "        print \"Start Calculation On %d\"%i\n",
    "        r,u,t = getTaste(i)\n",
    "        f.write( json.dumps( [i, r, u, t] ) )\n",
    "        f.write('\\n')\n",
    "        f.flush()\n",
    "f.close()"
   ]
  },
  {
   "cell_type": "code",
   "execution_count": 30,
   "metadata": {
    "collapsed": false
   },
   "outputs": [
    {
     "name": "stdout",
     "output_type": "stream",
     "text": [
      "Start Calculation On 41\n",
      "Time Cost: 13.06s\n",
      "Start Calculation On 42\n",
      "Time Cost: 13.19s\n",
      "Start Calculation On 43\n",
      "Time Cost: 13.04s\n",
      "Start Calculation On 44\n",
      "Time Cost: 11.38s\n",
      "Start Calculation On 45\n",
      "Time Cost: 13.06s\n",
      "Start Calculation On 46\n",
      "Time Cost: 13.98s\n",
      "Start Calculation On 47\n",
      "Time Cost: 12.83s\n",
      "Start Calculation On 48\n",
      "Time Cost: 11.16s\n",
      "Start Calculation On 49\n",
      "Time Cost: 12.81s\n",
      "Start Calculation On 50\n",
      "Time Cost: 12.82s\n",
      "Start Calculation On 51\n",
      "Time Cost: 12.78s\n",
      "Start Calculation On 52\n",
      "Time Cost: 11.45s\n",
      "Start Calculation On 53\n",
      "Time Cost: 13.47s\n",
      "Start Calculation On 54\n",
      "Time Cost: 13.72s\n",
      "Start Calculation On 55\n",
      "Time Cost: 12.88s\n",
      "Start Calculation On 56\n",
      "Time Cost: 11.40s\n",
      "Start Calculation On 57\n",
      "Time Cost: 12.78s\n",
      "Start Calculation On 58\n",
      "Time Cost: 12.93s\n",
      "Start Calculation On 59\n",
      "Time Cost: 12.82s\n",
      "Start Calculation On 60\n",
      "Time Cost: 11.13s\n"
     ]
    }
   ],
   "source": [
    "with open('cache.jl', \"a\") as f:\n",
    "    for i in range(41, 61):\n",
    "        print \"Start Calculation On %d\"%i\n",
    "        r,u,t = getTaste(i)\n",
    "        f.write( json.dumps( [i, r, u, t] ) )\n",
    "        f.write('\\n')\n",
    "        f.flush()\n",
    "f.close()"
   ]
  },
  {
   "cell_type": "code",
   "execution_count": null,
   "metadata": {
    "collapsed": true
   },
   "outputs": [],
   "source": []
  }
 ],
 "metadata": {
  "anaconda-cloud": {},
  "kernelspec": {
   "display_name": "Python [py2]",
   "language": "python",
   "name": "Python [py2]"
  },
  "language_info": {
   "codemirror_mode": {
    "name": "ipython",
    "version": 2
   },
   "file_extension": ".py",
   "mimetype": "text/x-python",
   "name": "python",
   "nbconvert_exporter": "python",
   "pygments_lexer": "ipython2",
   "version": "2.7.12"
  }
 },
 "nbformat": 4,
 "nbformat_minor": 0
}
