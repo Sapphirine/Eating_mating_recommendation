{
 "cells": [
  {
   "cell_type": "code",
   "execution_count": 15,
   "metadata": {
    "collapsed": true
   },
   "outputs": [],
   "source": [
    "from pyspark.mllib.recommendation import Rating\n",
    "import numpy as np\n",
    "import json, time\n",
    "from operator import add"
   ]
  },
  {
   "cell_type": "code",
   "execution_count": 2,
   "metadata": {
    "collapsed": true
   },
   "outputs": [],
   "source": [
    "filepath = \"data/reviews.jl\"\n",
    "save_dir = \"target/\""
   ]
  },
  {
   "cell_type": "code",
   "execution_count": 3,
   "metadata": {
    "collapsed": false
   },
   "outputs": [
    {
     "data": {
      "text/plain": [
       "2685066"
      ]
     },
     "execution_count": 3,
     "metadata": {},
     "output_type": "execute_result"
    }
   ],
   "source": [
    "# Load and parse the data\n",
    "data = sc.textFile(filepath)\n",
    "ratings = data.map(lambda l: json.loads(l))\\\n",
    "    .map(lambda l: Rating(int(l[0]), int(l[1]), float(l[2]))).cache()\n",
    "ratings.count()"
   ]
  },
  {
   "cell_type": "code",
   "execution_count": 4,
   "metadata": {
    "collapsed": false
   },
   "outputs": [],
   "source": [
    "business_dict = sc.textFile(\"data/business.jl\").map(lambda r: json.loads(r))\\\n",
    "                .map(lambda  r: (r[0], (r[1], r[2]))).collectAsMap()"
   ]
  },
  {
   "cell_type": "code",
   "execution_count": 5,
   "metadata": {
    "collapsed": false
   },
   "outputs": [],
   "source": [
    "user_dict = sc.textFile(\"data/user.jl\").map(lambda r: json.loads(r))\\\n",
    "                .map(lambda  r: (r[0], r[1])).collectAsMap()"
   ]
  },
  {
   "cell_type": "code",
   "execution_count": 6,
   "metadata": {
    "collapsed": false
   },
   "outputs": [
    {
     "data": {
      "text/plain": [
       "26729"
      ]
     },
     "execution_count": 6,
     "metadata": {},
     "output_type": "execute_result"
    }
   ],
   "source": [
    "len(business_dict)"
   ]
  },
  {
   "cell_type": "code",
   "execution_count": 7,
   "metadata": {
    "collapsed": false
   },
   "outputs": [
    {
     "data": {
      "text/plain": [
       "(u'Mr Hoagie, Dravosburg', [u'Fast Food'])"
      ]
     },
     "execution_count": 7,
     "metadata": {},
     "output_type": "execute_result"
    }
   ],
   "source": [
    "business_dict[1]"
   ]
  },
  {
   "cell_type": "code",
   "execution_count": 8,
   "metadata": {
    "collapsed": true
   },
   "outputs": [],
   "source": [
    "def loadModel(name):\n",
    "    start_time = time.time()\n",
    "    # Load vUser\n",
    "    vUser = sc.pickleFile(save_dir+name+\"/vUser\")\n",
    "    # Load vBusiness\n",
    "    vBusiness = sc.pickleFile(save_dir+name+\"/vBusiness\")\n",
    "    # Load Model\n",
    "#     model = MatrixFactorizationModel.load(sc, save_dir+name+\"/cfModel\")\n",
    "    end_time = time.time()\n",
    "    print \"Time Cost: %.2fs\"%(end_time - start_time)\n",
    "    return vUser, vBusiness"
   ]
  },
  {
   "cell_type": "code",
   "execution_count": 9,
   "metadata": {
    "collapsed": false
   },
   "outputs": [
    {
     "name": "stdout",
     "output_type": "stream",
     "text": [
      "Time Cost: 0.16s\n"
     ]
    },
    {
     "data": {
      "text/plain": [
       "(MapPartitionsRDD[11] at objectFile at NativeMethodAccessorImpl.java:-2,\n",
       " MapPartitionsRDD[13] at objectFile at NativeMethodAccessorImpl.java:-2)"
      ]
     },
     "execution_count": 9,
     "metadata": {},
     "output_type": "execute_result"
    }
   ],
   "source": [
    "vUser, vBusiness = loadModel('final')\n",
    "vUser, vBusiness"
   ]
  },
  {
   "cell_type": "code",
   "execution_count": 10,
   "metadata": {
    "collapsed": false
   },
   "outputs": [
    {
     "data": {
      "text/plain": [
       "686556"
      ]
     },
     "execution_count": 10,
     "metadata": {},
     "output_type": "execute_result"
    }
   ],
   "source": [
    "vUser.cache()\n",
    "vUser.count()"
   ]
  },
  {
   "cell_type": "code",
   "execution_count": 11,
   "metadata": {
    "collapsed": false
   },
   "outputs": [
    {
     "data": {
      "text/plain": [
       "85539"
      ]
     },
     "execution_count": 11,
     "metadata": {},
     "output_type": "execute_result"
    }
   ],
   "source": [
    "vBusiness.cache()\n",
    "vBusiness.count()"
   ]
  },
  {
   "cell_type": "code",
   "execution_count": 12,
   "metadata": {
    "collapsed": true
   },
   "outputs": [],
   "source": [
    "def getKNN(vUser, vu, k):\n",
    "    return vUser.map(lambda r: (r[0], np.linalg.norm(vu-r[1]))).top(k, key=lambda r: -r[1])\n",
    "\n",
    "def getUserFeature(vUser, uid):\n",
    "    a = vUser.filter(lambda r: r[0] == uid)\n",
    "    if a.isEmpty(): return None\n",
    "    return np.array(a.first()[1])\n",
    "\n",
    "def getProductFeature(vBusiness, bid):\n",
    "    a = vBusiness.filter(lambda r: r[0] == bid)\n",
    "    if a.isEmpty(): return None\n",
    "    return np.array(a.first()[1])\n",
    "\n",
    "def getRecommedProduct(vBusiness, vu, num=10):\n",
    "    return map(\n",
    "            lambda r: r[0],\n",
    "            vBusiness.filter(lambda r: r[0] in business_dict)\\\n",
    "                .map(lambda r: (r[0], np.array(r[1]).dot(vu))).top(num, key=lambda r: r[1])\n",
    "        )"
   ]
  },
  {
   "cell_type": "code",
   "execution_count": 13,
   "metadata": {
    "collapsed": false
   },
   "outputs": [],
   "source": [
    "def getTaste(uid):\n",
    "    start_time = time.time()\n",
    "    vu = getUserFeature(vUser, uid)\n",
    "    res = getRecommedProduct(vBusiness, vu, 1000)\n",
    "    recomd = map(lambda r: business_dict[r][0], res[:5])\n",
    "    users = map(lambda r: user_dict[r[0]], getKNN(vUser, vu, 6)[1:] )\n",
    "    taste = sc.parallelize(res).flatMap(lambda r: business_dict[r][1])\\\n",
    "        .map(lambda r: (r, 1)).reduceByKey(add).takeOrdered(50, key=lambda r: -r[1])\n",
    "    end_time = time.time()\n",
    "    print \"Time Cost: %.2fs\"%(end_time - start_time)\n",
    "    return recomd, users, taste"
   ]
  },
  {
   "cell_type": "code",
   "execution_count": 20,
   "metadata": {
    "collapsed": false
   },
   "outputs": [
    {
     "name": "stdout",
     "output_type": "stream",
     "text": [
      "Time Cost: 15.65s\n"
     ]
    }
   ],
   "source": [
    "recomd, users, taste = getTaste(400)"
   ]
  },
  {
   "cell_type": "code",
   "execution_count": 21,
   "metadata": {
    "collapsed": false
   },
   "outputs": [
    {
     "data": {
      "text/plain": [
       "[u'Katoreya, Pointe-Claire',\n",
       " u'Pizza Prosciutto, Kitchener',\n",
       " u'1001 Nights Shawarma, Kitchener',\n",
       " u'Chez la M\\xe8re Michel, Montr\\xe9al',\n",
       " u'The Curve, Madison']"
      ]
     },
     "execution_count": 21,
     "metadata": {},
     "output_type": "execute_result"
    }
   ],
   "source": [
    "recomd"
   ]
  },
  {
   "cell_type": "code",
   "execution_count": 22,
   "metadata": {
    "collapsed": false
   },
   "outputs": [
    {
     "data": {
      "text/plain": [
       "[u'Conor', u'Patty', u'Matthew', u'Tina', u'Carly']"
      ]
     },
     "execution_count": 22,
     "metadata": {},
     "output_type": "execute_result"
    }
   ],
   "source": [
    "users"
   ]
  },
  {
   "cell_type": "code",
   "execution_count": 23,
   "metadata": {
    "collapsed": false
   },
   "outputs": [
    {
     "data": {
      "text/plain": [
       "[(u'American (Traditional)', 96),\n",
       " (u'Sandwiches', 92),\n",
       " (u'Pizza', 90),\n",
       " (u'Cafes', 79),\n",
       " (u'Italian', 68),\n",
       " (u'Mexican', 67),\n",
       " (u'Burgers', 58),\n",
       " (u'Chinese', 57),\n",
       " (u'American (New)', 51),\n",
       " (u'Sushi Bars', 42),\n",
       " (u'Coffee & Tea', 40),\n",
       " (u'Fast Food', 39),\n",
       " (u'Japanese', 33),\n",
       " (u'Mediterranean', 32),\n",
       " (u'Pubs', 32),\n",
       " (u'French', 31),\n",
       " (u'Barbeque', 31),\n",
       " (u'Indian', 28),\n",
       " (u'Delis', 26),\n",
       " (u'Bakeries', 22),\n",
       " (u'Thai', 21),\n",
       " (u'Seafood', 21),\n",
       " (u'Canadian (New)', 20),\n",
       " (u'Vietnamese', 20),\n",
       " (u'Greek', 18),\n",
       " (u'Steakhouses', 18),\n",
       " (u'Asian Fusion', 17),\n",
       " (u'Ice Cream & Frozen Yogurt', 17),\n",
       " (u'Sports Bars', 17),\n",
       " (u'Salad', 14),\n",
       " (u'Middle Eastern', 13),\n",
       " (u'Vegetarian', 13),\n",
       " (u'Specialty Food', 13),\n",
       " (u'Chicken Wings', 12),\n",
       " (u'Korean', 12),\n",
       " (u'Soup', 11),\n",
       " (u'Tex-Mex', 11),\n",
       " (u'Latin American', 11),\n",
       " (u'Vegan', 11),\n",
       " (u'Food Trucks', 11),\n",
       " (u'Gluten-Free', 10),\n",
       " (u'Desserts', 10),\n",
       " (u'Caribbean', 9),\n",
       " (u'Gastropubs', 9),\n",
       " (u'Event Planning & Services', 9),\n",
       " (u'Peruvian', 8),\n",
       " (u'Portuguese', 8),\n",
       " (u'Southern', 7),\n",
       " (u'Tapas Bars', 7),\n",
       " (u'Lounges', 7)]"
      ]
     },
     "execution_count": 23,
     "metadata": {},
     "output_type": "execute_result"
    }
   ],
   "source": [
    "taste"
   ]
  },
  {
   "cell_type": "code",
   "execution_count": 16,
   "metadata": {
    "collapsed": false
   },
   "outputs": [
    {
     "name": "stdout",
     "output_type": "stream",
     "text": [
      "Time Cost: 16.92s\n"
     ]
    }
   ],
   "source": [
    "recomd, users, taste = getTaste(9)"
   ]
  },
  {
   "cell_type": "code",
   "execution_count": 17,
   "metadata": {
    "collapsed": false
   },
   "outputs": [
    {
     "data": {
      "text/plain": [
       "[u'So Good Cafe, Las Vegas',\n",
       " u'Truffles N Bacon Caf\\xe9, Las Vegas',\n",
       " u'Pizza Ben, Montr\\xe9al',\n",
       " u\"Zarra's A Taste of Southern Italy, Pittsburgh\",\n",
       " u'Anise Tapas & Grill, Las Vegas']"
      ]
     },
     "execution_count": 17,
     "metadata": {},
     "output_type": "execute_result"
    }
   ],
   "source": [
    "recomd"
   ]
  },
  {
   "cell_type": "code",
   "execution_count": 18,
   "metadata": {
    "collapsed": false
   },
   "outputs": [
    {
     "data": {
      "text/plain": [
       "[u'Gerard', u'John', u'Gregory', u'Vic', u'Irene']"
      ]
     },
     "execution_count": 18,
     "metadata": {},
     "output_type": "execute_result"
    }
   ],
   "source": [
    "users"
   ]
  },
  {
   "cell_type": "code",
   "execution_count": 19,
   "metadata": {
    "collapsed": false
   },
   "outputs": [
    {
     "data": {
      "text/plain": [
       "[(u'Pizza', 117),\n",
       " (u'Mexican', 114),\n",
       " (u'Sandwiches', 108),\n",
       " (u'American (Traditional)', 78),\n",
       " (u'Italian', 77),\n",
       " (u'Fast Food', 74),\n",
       " (u'American (New)', 69),\n",
       " (u'Chinese', 65),\n",
       " (u'Japanese', 51),\n",
       " (u'Burgers', 45),\n",
       " (u'Cafes', 45),\n",
       " (u'Mediterranean', 38),\n",
       " (u'Sushi Bars', 35),\n",
       " (u'Delis', 35),\n",
       " (u'Thai', 31),\n",
       " (u'Seafood', 30),\n",
       " (u'Asian Fusion', 27),\n",
       " (u'Coffee & Tea', 27),\n",
       " (u'Steakhouses', 23),\n",
       " (u'Barbeque', 23),\n",
       " (u'Chicken Wings', 22),\n",
       " (u'Middle Eastern', 20),\n",
       " (u'Salad', 19),\n",
       " (u'Bakeries', 18),\n",
       " (u'Indian', 18),\n",
       " (u'Greek', 17),\n",
       " (u'Vegan', 17),\n",
       " (u'French', 17),\n",
       " (u'Vegetarian', 17),\n",
       " (u'Latin American', 16),\n",
       " (u'Hot Dogs', 16),\n",
       " (u'Juice Bars & Smoothies', 15),\n",
       " (u'Sports Bars', 14),\n",
       " (u'Hawaiian', 14),\n",
       " (u'Vietnamese', 14),\n",
       " (u'Food Trucks', 14),\n",
       " (u'Gluten-Free', 13),\n",
       " (u'Desserts', 13),\n",
       " (u'Specialty Food', 13),\n",
       " (u'Pubs', 10),\n",
       " (u'Ice Cream & Frozen Yogurt', 10),\n",
       " (u'Cocktail Bars', 10),\n",
       " (u'Korean', 9),\n",
       " (u'Wine Bars', 9),\n",
       " (u'Ethnic Food', 8),\n",
       " (u'Grocery', 8),\n",
       " (u'Soul Food', 8),\n",
       " (u'Caribbean', 7),\n",
       " (u'Soup', 7),\n",
       " (u'Tex-Mex', 7)]"
      ]
     },
     "execution_count": 19,
     "metadata": {},
     "output_type": "execute_result"
    }
   ],
   "source": [
    "taste"
   ]
  },
  {
   "cell_type": "code",
   "execution_count": null,
   "metadata": {
    "collapsed": true
   },
   "outputs": [],
   "source": []
  }
 ],
 "metadata": {
  "kernelspec": {
   "display_name": "Python [py2]",
   "language": "python",
   "name": "Python [py2]"
  },
  "language_info": {
   "codemirror_mode": {
    "name": "ipython",
    "version": 2
   },
   "file_extension": ".py",
   "mimetype": "text/x-python",
   "name": "python",
   "nbconvert_exporter": "python",
   "pygments_lexer": "ipython2",
   "version": "2.7.12"
  }
 },
 "nbformat": 4,
 "nbformat_minor": 0
}
