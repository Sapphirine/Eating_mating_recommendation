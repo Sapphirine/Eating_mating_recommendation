{
 "cells": [
  {
   "cell_type": "code",
   "execution_count": 87,
   "metadata": {
    "collapsed": true
   },
   "outputs": [],
   "source": [
    "from pyspark.mllib.recommendation import Rating\n",
    "import numpy as np\n",
    "import json, time\n",
    "from operator import add"
   ]
  },
  {
   "cell_type": "code",
   "execution_count": 22,
   "metadata": {
    "collapsed": true
   },
   "outputs": [],
   "source": [
    "filepath = \"data/reviews.jl\"\n",
    "save_dir = \"target/\""
   ]
  },
  {
   "cell_type": "code",
   "execution_count": 24,
   "metadata": {
    "collapsed": false
   },
   "outputs": [
    {
     "data": {
      "text/plain": [
       "2685066"
      ]
     },
     "execution_count": 24,
     "metadata": {},
     "output_type": "execute_result"
    }
   ],
   "source": [
    "# Load and parse the data\n",
    "data = sc.textFile(filepath)\n",
    "ratings = data.map(lambda l: json.loads(l))\\\n",
    "    .map(lambda l: Rating(int(l[0]), int(l[1]), float(l[2]))).cache()\n",
    "ratings.count()"
   ]
  },
  {
   "cell_type": "code",
   "execution_count": 67,
   "metadata": {
    "collapsed": false
   },
   "outputs": [],
   "source": [
    "business_dict = sc.textFile(\"data/business.jl\").map(lambda r: json.loads(r))\\\n",
    "                .map(lambda  r: (r[0], (r[1], r[2]))).collectAsMap()"
   ]
  },
  {
   "cell_type": "code",
   "execution_count": 69,
   "metadata": {
    "collapsed": false
   },
   "outputs": [],
   "source": [
    "user_dict = sc.textFile(\"data/user.jl\").map(lambda r: json.loads(r))\\\n",
    "                .map(lambda  r: (r[0], r[1])).collectAsMap()"
   ]
  },
  {
   "cell_type": "code",
   "execution_count": 54,
   "metadata": {
    "collapsed": false
   },
   "outputs": [
    {
     "data": {
      "text/plain": [
       "26729"
      ]
     },
     "execution_count": 54,
     "metadata": {},
     "output_type": "execute_result"
    }
   ],
   "source": [
    "len(business_dict)"
   ]
  },
  {
   "cell_type": "code",
   "execution_count": 53,
   "metadata": {
    "collapsed": false
   },
   "outputs": [
    {
     "data": {
      "text/plain": [
       "(u'Mr Hoagie, Dravosburg', [u'Fast Food'])"
      ]
     },
     "execution_count": 53,
     "metadata": {},
     "output_type": "execute_result"
    }
   ],
   "source": [
    "business_dict[1]"
   ]
  },
  {
   "cell_type": "code",
   "execution_count": 20,
   "metadata": {
    "collapsed": true
   },
   "outputs": [],
   "source": [
    "def loadModel(name):\n",
    "    start_time = time.time()\n",
    "    # Load vUser\n",
    "    vUser = sc.pickleFile(save_dir+name+\"/vUser\")\n",
    "    # Load vBusiness\n",
    "    vBusiness = sc.pickleFile(save_dir+name+\"/vBusiness\")\n",
    "    # Load Model\n",
    "#     model = MatrixFactorizationModel.load(sc, save_dir+name+\"/cfModel\")\n",
    "    end_time = time.time()\n",
    "    print \"Time Cost: %.2fs\"%(end_time - start_time)\n",
    "    return vUser, vBusiness"
   ]
  },
  {
   "cell_type": "code",
   "execution_count": 25,
   "metadata": {
    "collapsed": false
   },
   "outputs": [
    {
     "name": "stdout",
     "output_type": "stream",
     "text": [
      "Time Cost: 0.09s\n"
     ]
    },
    {
     "data": {
      "text/plain": [
       "(MapPartitionsRDD[28] at objectFile at NativeMethodAccessorImpl.java:-2,\n",
       " MapPartitionsRDD[30] at objectFile at NativeMethodAccessorImpl.java:-2)"
      ]
     },
     "execution_count": 25,
     "metadata": {},
     "output_type": "execute_result"
    }
   ],
   "source": [
    "vUser, vBusiness = loadModel('final')\n",
    "vUser, vBusiness"
   ]
  },
  {
   "cell_type": "code",
   "execution_count": 26,
   "metadata": {
    "collapsed": false
   },
   "outputs": [
    {
     "data": {
      "text/plain": [
       "686556"
      ]
     },
     "execution_count": 26,
     "metadata": {},
     "output_type": "execute_result"
    }
   ],
   "source": [
    "vUser.cache()\n",
    "vUser.count()"
   ]
  },
  {
   "cell_type": "code",
   "execution_count": 27,
   "metadata": {
    "collapsed": false
   },
   "outputs": [
    {
     "data": {
      "text/plain": [
       "85539"
      ]
     },
     "execution_count": 27,
     "metadata": {},
     "output_type": "execute_result"
    }
   ],
   "source": [
    "vBusiness.cache()\n",
    "vBusiness.count()"
   ]
  },
  {
   "cell_type": "code",
   "execution_count": 82,
   "metadata": {
    "collapsed": true
   },
   "outputs": [],
   "source": [
    "def getKNN(vUser, vu, k):\n",
    "    return vUser.map(lambda r: (r[0], np.linalg.norm(vu-r[1]))).top(k, key=lambda r: -r[1])\n",
    "\n",
    "def getUserFeature(vUser, uid):\n",
    "    a = vUser.filter(lambda r: r[0] == uid)\n",
    "    if a.isEmpty(): return None\n",
    "    return np.array(a.first()[1])\n",
    "\n",
    "def getProductFeature(vBusiness, bid):\n",
    "    a = vBusiness.filter(lambda r: r[0] == bid)\n",
    "    if a.isEmpty(): return None\n",
    "    return np.array(a.first()[1])\n",
    "\n",
    "def getRecommedProduct(vBusiness, vu, num=10):\n",
    "    return map(\n",
    "            lambda r: r[0],\n",
    "            vBusiness.filter(lambda r: r[0] in business_dict)\\\n",
    "                .map(lambda r: (r[0], np.array(r[1]).dot(vu))).top(num, key=lambda r: r[1])\n",
    "        )"
   ]
  },
  {
   "cell_type": "code",
   "execution_count": 83,
   "metadata": {
    "collapsed": false
   },
   "outputs": [],
   "source": [
    "def getTaste(uid):\n",
    "    start_time = time.time()\n",
    "    vu = getUserFeature(vUser, uid)\n",
    "    res = getRecommedProduct(vBusiness, vu, 1000)\n",
    "    recomd = map(lambda r: business_dict[r][0], res[:5])\n",
    "    users = map(lambda r: user_dict[r[0]], getKNN(vUser, vu, 6)[1:] )\n",
    "    taste = sc.parallelize(res).flatMap(lambda r: business_dict[r][1])\\\n",
    "        .map(lambda r: (r, 1)).reduceByKey(add).takeOrdered(50, key=lambda r: -r[1])\n",
    "    end_time = time.time()\n",
    "    print \"Time Cost: %.2fs\"%(end_time - start_time)\n",
    "    return recomd, users, taste"
   ]
  },
  {
   "cell_type": "code",
   "execution_count": 85,
   "metadata": {
    "collapsed": false
   },
   "outputs": [
    {
     "name": "stdout",
     "output_type": "stream",
     "text": [
      "Time Cost: 13.86s\n"
     ]
    }
   ],
   "source": [
    "recomd, users, taste = getTaste(9)"
   ]
  },
  {
   "cell_type": "code",
   "execution_count": 86,
   "metadata": {
    "collapsed": false
   },
   "outputs": [
    {
     "data": {
      "text/plain": [
       "'[[\"Pizza\", 117], [\"Mexican\", 114], [\"Sandwiches\", 108], [\"American (Traditional)\", 78], [\"Italian\", 77], [\"Fast Food\", 74], [\"American (New)\", 69], [\"Chinese\", 65], [\"Japanese\", 51], [\"Burgers\", 45], [\"Cafes\", 45], [\"Mediterranean\", 38], [\"Sushi Bars\", 35], [\"Delis\", 35], [\"Thai\", 31], [\"Seafood\", 30], [\"Asian Fusion\", 27], [\"Coffee & Tea\", 27], [\"Steakhouses\", 23], [\"Barbeque\", 23], [\"Chicken Wings\", 22], [\"Middle Eastern\", 20], [\"Salad\", 19], [\"Bakeries\", 18], [\"Indian\", 18], [\"Greek\", 17], [\"Vegan\", 17], [\"French\", 17], [\"Vegetarian\", 17], [\"Latin American\", 16], [\"Hot Dogs\", 16], [\"Juice Bars & Smoothies\", 15], [\"Sports Bars\", 14], [\"Hawaiian\", 14], [\"Vietnamese\", 14], [\"Food Trucks\", 14], [\"Gluten-Free\", 13], [\"Desserts\", 13], [\"Specialty Food\", 13], [\"Pubs\", 10], [\"Ice Cream & Frozen Yogurt\", 10], [\"Cocktail Bars\", 10], [\"Korean\", 9], [\"Wine Bars\", 9], [\"Ethnic Food\", 8], [\"Grocery\", 8], [\"Soul Food\", 8], [\"Caribbean\", 7], [\"Soup\", 7], [\"Tex-Mex\", 7]]'"
      ]
     },
     "execution_count": 86,
     "metadata": {},
     "output_type": "execute_result"
    }
   ],
   "source": [
    "json.dumps(taste)"
   ]
  },
  {
   "cell_type": "code",
   "execution_count": null,
   "metadata": {
    "collapsed": true
   },
   "outputs": [],
   "source": []
  }
 ],
 "metadata": {
  "kernelspec": {
   "display_name": "Python [py2]",
   "language": "python",
   "name": "Python [py2]"
  },
  "language_info": {
   "codemirror_mode": {
    "name": "ipython",
    "version": 2
   },
   "file_extension": ".py",
   "mimetype": "text/x-python",
   "name": "python",
   "nbconvert_exporter": "python",
   "pygments_lexer": "ipython2",
   "version": "2.7.12"
  }
 },
 "nbformat": 4,
 "nbformat_minor": 0
}
