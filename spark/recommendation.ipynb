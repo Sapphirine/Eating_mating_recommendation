{
 "cells": [
  {
   "cell_type": "markdown",
   "metadata": {},
   "source": [
    "## Import Library"
   ]
  },
  {
   "cell_type": "code",
   "execution_count": 5,
   "metadata": {
    "collapsed": false
   },
   "outputs": [],
   "source": [
    "from pyspark.mllib.recommendation import ALS, MatrixFactorizationModel, Rating\n",
    "from pyspark.mllib.regression import LabeledPoint, LinearRegressionWithSGD, LinearRegressionModel\n",
    "import numpy as np\n",
    "import json, time\n",
    "from operator import add"
   ]
  },
  {
   "cell_type": "markdown",
   "metadata": {},
   "source": [
    "## Define File Path & ALS Setting"
   ]
  },
  {
   "cell_type": "code",
   "execution_count": 6,
   "metadata": {
    "collapsed": true
   },
   "outputs": [],
   "source": [
    "filepath = \"data/reviews.jl\"\n",
    "save_dir = \"target/\"\n",
    "ALS_setting = {\n",
    "    'rank': 10,\n",
    "    'numIterations': 20\n",
    "}"
   ]
  },
  {
   "cell_type": "markdown",
   "metadata": {},
   "source": [
    "## Load & Process Data"
   ]
  },
  {
   "cell_type": "code",
   "execution_count": 7,
   "metadata": {
    "collapsed": false
   },
   "outputs": [],
   "source": [
    "# Load and parse the data\n",
    "data = sc.textFile(filepath)\n",
    "ratings = data.map(lambda l: json.loads(l))\\\n",
    "    .map(lambda l: Rating(int(l[0]), int(l[1]), float(l[2]))).cache()"
   ]
  },
  {
   "cell_type": "code",
   "execution_count": 8,
   "metadata": {
    "collapsed": false
   },
   "outputs": [
    {
     "data": {
      "text/plain": [
       "[Rating(user=511458, product=1, rating=4.0),\n",
       " Rating(user=291006, product=1, rating=5.0),\n",
       " Rating(user=551918, product=1, rating=5.0),\n",
       " Rating(user=307073, product=1, rating=3.0),\n",
       " Rating(user=658213, product=1, rating=2.0)]"
      ]
     },
     "execution_count": 8,
     "metadata": {},
     "output_type": "execute_result"
    }
   ],
   "source": [
    "ratings.take(5)"
   ]
  },
  {
   "cell_type": "markdown",
   "metadata": {},
   "source": [
    "## Train & Test Data"
   ]
  },
  {
   "cell_type": "code",
   "execution_count": 9,
   "metadata": {
    "collapsed": false
   },
   "outputs": [],
   "source": [
    "def splitRatings(ratings, bound=1000):\n",
    "    c = ratings.count()\n",
    "    print(\"Number of Reviews: %d\"%c)\n",
    "    print(\"_________________________________\")\n",
    "    train_ratings = ratings.filter(lambda r: r.user >= bound)\n",
    "    test_ratings = ratings.filter(lambda r: r.user < bound)\n",
    "    tmp = train_ratings.count()\n",
    "    print(\"Training Data: %6.2f%% %d\"%(float(tmp)/c*100, tmp))\n",
    "    tmp = test_ratings.count()\n",
    "    print(\"    Test Data: %6.2f%% %d\"%(float(tmp)/c*100, tmp))\n",
    "    return train_ratings, test_ratings"
   ]
  },
  {
   "cell_type": "code",
   "execution_count": 10,
   "metadata": {
    "collapsed": false
   },
   "outputs": [
    {
     "name": "stdout",
     "output_type": "stream",
     "text": [
      "Number of Reviews: 2685066\n",
      "_________________________________\n",
      "Training Data:  99.86% 2681301\n",
      "    Test Data:   0.14% 3765\n"
     ]
    }
   ],
   "source": [
    "train_ratings, test_ratings = splitRatings(ratings)"
   ]
  },
  {
   "cell_type": "markdown",
   "metadata": {},
   "source": [
    "## Train Model"
   ]
  },
  {
   "cell_type": "code",
   "execution_count": 11,
   "metadata": {
    "collapsed": true
   },
   "outputs": [],
   "source": [
    "# Build the recommendation model using Alternating Least Squares\n",
    "def cf_als(ratings, ALS_setting):\n",
    "    print(\"Training CF Model\")\n",
    "    print(\"_________________________________\")\n",
    "    start_time = time.time()\n",
    "    model = ALS.train(ratings, ALS_setting['rank'], ALS_setting['numIterations'])\n",
    "    end_time = time.time()\n",
    "    print \"Time Cost: %.2fs\"%(end_time - start_time)\n",
    "    return model\n",
    "\n",
    "def cf_als_eval(model, ratings):\n",
    "    # Evaluate the model on training data\n",
    "    print(\"Evaluating CF Model\")\n",
    "    print(\"_________________________________\")\n",
    "    start_time = time.time()\n",
    "    testdata = ratings.map(lambda p: (p[0], p[1]))\n",
    "    predictions = model.predictAll(testdata).map(lambda r: ((r[0], r[1]), r[2]))\n",
    "    ratesAndPreds = ratings.map(lambda r: ((r[0], r[1]), r[2])).join(predictions)\n",
    "    MSE = ratesAndPreds.map(lambda r: (r[1][0] - r[1][1])**2).mean()\n",
    "    end_time = time.time()\n",
    "    print(\"Mean Squared Error = \" + str(MSE))\n",
    "    print \"Time Cost: %.2fs\"%(end_time - start_time)"
   ]
  },
  {
   "cell_type": "code",
   "execution_count": 12,
   "metadata": {
    "collapsed": true
   },
   "outputs": [],
   "source": [
    "def saveModel(model, name):\n",
    "    start_time = time.time()\n",
    "    vBusiness = model.productFeatures()\n",
    "    vBusiness.saveAsPickleFile(save_dir+name+\"/vBusiness\")\n",
    "    vUser = model.userFeatures()\n",
    "    vUser.saveAsPickleFile(save_dir+name+\"/vUser\")\n",
    "    \n",
    "#     # Save and load model\n",
    "#     model.save(sc, save_dir+name+\"/cfModel\")\n",
    "\n",
    "    end_time = time.time()\n",
    "    print(\"Number of Business: %d\"%vBusiness.count())\n",
    "    print(\"Number of User: %d\"%vUser.count())\n",
    "    print \"Time Cost: %.2fs\"%(end_time - start_time)\n",
    "    \n",
    "def loadModel(name):\n",
    "    start_time = time.time()\n",
    "    # Load vUser\n",
    "    vUser = sc.pickleFile(save_dir+name+\"/vUser\")\n",
    "    # Load vBusiness\n",
    "    vBusiness = sc.pickleFile(save_dir+name+\"/vBusiness\")\n",
    "    # Load Model\n",
    "#     model = MatrixFactorizationModel.load(sc, save_dir+name+\"/cfModel\")\n",
    "    end_time = time.time()\n",
    "    print \"Time Cost: %.2fs\"%(end_time - start_time)\n",
    "    return vUser, vBusiness"
   ]
  },
  {
   "cell_type": "markdown",
   "metadata": {},
   "source": [
    "### Builde CF Model based on training data"
   ]
  },
  {
   "cell_type": "code",
   "execution_count": 13,
   "metadata": {
    "collapsed": false
   },
   "outputs": [
    {
     "name": "stdout",
     "output_type": "stream",
     "text": [
      "Training CF Model\n",
      "_________________________________\n",
      "Time Cost: 82.39s\n"
     ]
    }
   ],
   "source": [
    "trainModel = cf_als(train_ratings, ALS_setting)"
   ]
  },
  {
   "cell_type": "code",
   "execution_count": 13,
   "metadata": {
    "collapsed": false
   },
   "outputs": [
    {
     "name": "stdout",
     "output_type": "stream",
     "text": [
      "Evaluating CF Model\n",
      "_________________________________\n",
      "Mean Squared Error = 0.201681527241\n",
      "Time Cost: 134.85s\n"
     ]
    }
   ],
   "source": [
    "cf_als_eval(trainModel, train_ratings)"
   ]
  },
  {
   "cell_type": "code",
   "execution_count": 35,
   "metadata": {
    "collapsed": false
   },
   "outputs": [
    {
     "name": "stdout",
     "output_type": "stream",
     "text": [
      "Number of Business: 85538\n",
      "Number of User: 685557\n",
      "Time Cost: 14.18s\n"
     ]
    }
   ],
   "source": [
    "saveModel(trainModel, \"full\")"
   ]
  },
  {
   "cell_type": "markdown",
   "metadata": {},
   "source": [
    "### Build the complete CF Model"
   ]
  },
  {
   "cell_type": "code",
   "execution_count": 6,
   "metadata": {
    "collapsed": false
   },
   "outputs": [
    {
     "name": "stdout",
     "output_type": "stream",
     "text": [
      "Training CF Model\n",
      "_________________________________\n",
      "Time Cost: 177.23s\n"
     ]
    }
   ],
   "source": [
    "model = cf_als(ratings, ALS_setting)"
   ]
  },
  {
   "cell_type": "code",
   "execution_count": 10,
   "metadata": {
    "collapsed": false
   },
   "outputs": [
    {
     "name": "stdout",
     "output_type": "stream",
     "text": [
      "Number of Business: 85539\n",
      "Number of User: 686556\n",
      "Time Cost: 14.81s\n"
     ]
    }
   ],
   "source": [
    "saveModel(model, \"final\")"
   ]
  },
  {
   "cell_type": "code",
   "execution_count": 14,
   "metadata": {
    "collapsed": false
   },
   "outputs": [],
   "source": [
    "def getPredictedUserFeature(uid, ratings, vBusiness):\n",
    "    def getMatrix(m):\n",
    "        vb = []\n",
    "        mA = []\n",
    "        for r in m.collect():\n",
    "            vb.append(r.label)\n",
    "            mA.append(r.features.toArray())\n",
    "        return np.array(vb), np.array(mA)\n",
    "    businessDict = ratings.filter(lambda r: r.user == uid)\\\n",
    "                          .map(lambda r: (r.product, r.rating)).collectAsMap()\n",
    "    compactM = vBusiness.filter(lambda r: r[0] in businessDict)\\\n",
    "                  .map(lambda r: LabeledPoint(businessDict[r[0]], r[1]))\n",
    "    vb, mA = getMatrix(compactM)\n",
    "    vu = np.linalg.inv(mA.T.dot(mA)).dot(mA.T).dot(vb)\n",
    "    return vu, np.mean((vb-mA.dot(vu))**2)\n",
    "\n",
    "def getKNN(vUser, vu, k):\n",
    "    return vUser.map(lambda r: (r[0], np.linalg.norm(vu-r[1]))).top(k, key=lambda r: -r[1])\n",
    "\n",
    "def getSimilarity(dv, v):\n",
    "    return max(1 - dv/np.linalg.norm(v), 0)\n",
    "\n",
    "def getUserFeature(vUser, uid):\n",
    "    a = vUser.filter(lambda r: r[0] == uid)\n",
    "    if a.isEmpty(): return None\n",
    "    return np.array(a.first()[1])\n",
    "\n",
    "def getProductFeature(vBusiness, bid):\n",
    "    a = vBusiness.filter(lambda r: r[0] == bid)\n",
    "    if a.isEmpty(): return None\n",
    "    return np.array(a.first()[1])\n",
    "\n",
    "def getRecommedProduct(vBusiness, vu, num=10):\n",
    "    return map(\n",
    "            lambda r: r[0],\n",
    "            vBusiness.map(lambda r: (r[0], np.array(r[1]).dot(vu))).top(num, key=lambda r: r[1])\n",
    "        )\n",
    "\n",
    "def getEatingMate(uid, ratings, model, knn=10):\n",
    "    # Get Feature Matrix\n",
    "    vUser = trainModel.userFeatures().cache()\n",
    "    vBusiness = trainModel.productFeatures().cache()\n",
    "    # Get Predicted User Feature Vector\n",
    "    vu, err = getPredictedUserFeature(uid, ratings, vBusiness)\n",
    "    # Get Potential Recomended Business\n",
    "    recomdBusinessSet = set( getRecommedProduct(vBusiness, vu, 10) )\n",
    "    # Get the kNN eating mates\n",
    "    knnUsers = getKNN(vUser, vu, knn)\n",
    "    return map(lambda r: (\n",
    "            r[0],\n",
    "            getSimilarity(r[1], vu),\n",
    "            filter(\n",
    "                lambda r: r in recomdBusinessSet,\n",
    "                getRecommedProduct(vBusiness, getUserFeature(vUser, r[0]), 10)\n",
    "            )[:3]\n",
    "        ), knnUsers), (vu, err)"
   ]
  },
  {
   "cell_type": "code",
   "execution_count": 15,
   "metadata": {
    "collapsed": false
   },
   "outputs": [],
   "source": [
    "def evalUserVectorPrediction(test_ratings, trainModel):\n",
    "    # Get Feature Matrix\n",
    "    vUser = trainModel.userFeatures().cache()\n",
    "    vBusiness = trainModel.productFeatures().cache()\n",
    "    sum = 0\n",
    "    i = 0\n",
    "    for x in test_ratings.map(lambda r: (r.user, (r.product, r.rating))).groupByKey().collect():\n",
    "        if len(x[1]) < ALS_setting['rank']: continue\n",
    "        vu = getPredictedUserFeature(x[0], test_ratings, vBusiness)\n",
    "        if vu is None: continue\n",
    "        for bid, rating in x[1]:\n",
    "            vb = getProductFeature(vBusiness, bid)\n",
    "            if vb is None: continue\n",
    "            sum += (rating - vu.dot(vb))**2\n",
    "            i+=1\n",
    "        print sum / i, i"
   ]
  },
  {
   "cell_type": "code",
   "execution_count": 16,
   "metadata": {
    "collapsed": false
   },
   "outputs": [],
   "source": [
    "def evalEatingMateRecomd(uid, ratings, model):\n",
    "    start_time = time.time()\n",
    "    knnUsers, vec = getEatingMate(uid, ratings, model, knn=10)\n",
    "    for mid, sim, recomds in knnUsers:\n",
    "        print(\"%6d %d%% %s\"%(mid, int(sim*100), recomds))\n",
    "    end_time = time.time()\n",
    "    print \"Time Cost: %.2fs\"%(end_time - start_time)\n",
    "    print \"MSE of User Vector: %.2f\"%vec[1]"
   ]
  },
  {
   "cell_type": "code",
   "execution_count": 19,
   "metadata": {
    "collapsed": false
   },
   "outputs": [
    {
     "name": "stdout",
     "output_type": "stream",
     "text": [
      "Number of Users   : 685557\n",
      "Number of Business: 85538\n",
      "Time Cost: 8.75s\n"
     ]
    }
   ],
   "source": [
    "vUser = trainModel.userFeatures().cache()\n",
    "vBusiness = trainModel.productFeatures().cache()\n",
    "start_time = time.time()\n",
    "print \"Number of Users   : %d\"%vUser.count()\n",
    "print \"Number of Business: %d\"%vBusiness.count()\n",
    "end_time = time.time()\n",
    "print \"Time Cost: %.2fs\"%(end_time - start_time)"
   ]
  },
  {
   "cell_type": "markdown",
   "metadata": {},
   "source": [
    "## New User - Provide a series of ratings"
   ]
  },
  {
   "cell_type": "code",
   "execution_count": 17,
   "metadata": {
    "collapsed": false
   },
   "outputs": [
    {
     "data": {
      "text/plain": [
       "[(400, 1899, 4.0),\n",
       " (400, 12608, 2.0),\n",
       " (400, 12897, 2.0),\n",
       " (400, 12912, 5.0),\n",
       " (400, 12971, 3.0),\n",
       " (400, 12988, 5.0),\n",
       " (400, 13139, 3.0),\n",
       " (400, 13182, 3.0),\n",
       " (400, 13225, 5.0),\n",
       " (400, 13266, 3.0)]"
      ]
     },
     "execution_count": 17,
     "metadata": {},
     "output_type": "execute_result"
    }
   ],
   "source": [
    "# Only show the first 10 records\n",
    "test_ratings.filter(lambda r: r[0] == 400).map(lambda r: (r[0], r[1], r[2])).collect()[:10]"
   ]
  },
  {
   "cell_type": "markdown",
   "metadata": {},
   "source": [
    "## Linear Regression"
   ]
  },
  {
   "cell_type": "code",
   "execution_count": 21,
   "metadata": {
    "collapsed": false
   },
   "outputs": [],
   "source": [
    "vu, err = getPredictedUserFeature(400, test_ratings, vBusiness)"
   ]
  },
  {
   "cell_type": "markdown",
   "metadata": {},
   "source": [
    "### Predicted User Vector"
   ]
  },
  {
   "cell_type": "code",
   "execution_count": 22,
   "metadata": {
    "collapsed": false
   },
   "outputs": [
    {
     "data": {
      "text/plain": [
       "array([ 0.70494235,  0.82374822,  0.04961392, -1.00127745, -0.20855774,\n",
       "       -0.54137144,  0.69599332, -0.9910483 ,  0.1960942 , -0.05883268])"
      ]
     },
     "execution_count": 22,
     "metadata": {},
     "output_type": "execute_result"
    }
   ],
   "source": [
    "vu"
   ]
  },
  {
   "cell_type": "markdown",
   "metadata": {},
   "source": [
    "### Mean Squared Error"
   ]
  },
  {
   "cell_type": "code",
   "execution_count": 23,
   "metadata": {
    "collapsed": false
   },
   "outputs": [
    {
     "data": {
      "text/plain": [
       "0.68545587419692322"
      ]
     },
     "execution_count": 23,
     "metadata": {},
     "output_type": "execute_result"
    }
   ],
   "source": [
    "err"
   ]
  },
  {
   "cell_type": "markdown",
   "metadata": {},
   "source": [
    "## K-NN"
   ]
  },
  {
   "cell_type": "code",
   "execution_count": 24,
   "metadata": {
    "collapsed": false
   },
   "outputs": [
    {
     "data": {
      "text/plain": [
       "[(549160, 0.43512965521510033),\n",
       " (173008, 0.48724432486827735),\n",
       " (379400, 0.51627669683277222),\n",
       " (603259, 0.55394767594551075),\n",
       " (588107, 0.55601589082649205),\n",
       " (325203, 0.56162346541068553),\n",
       " (63650, 0.57767919317913008),\n",
       " (390399, 0.58395030948810156),\n",
       " (373084, 0.58520336223113201),\n",
       " (20616, 0.58958762416473243)]"
      ]
     },
     "execution_count": 24,
     "metadata": {},
     "output_type": "execute_result"
    }
   ],
   "source": [
    "getKNN(vUser, vu, 10)"
   ]
  },
  {
   "cell_type": "markdown",
   "metadata": {},
   "source": [
    "## Eating Mates & Recommended Restaurants"
   ]
  },
  {
   "cell_type": "code",
   "execution_count": 41,
   "metadata": {
    "collapsed": false
   },
   "outputs": [
    {
     "name": "stdout",
     "output_type": "stream",
     "text": [
      " 94726 75% [81330, 64660, 79749, 69512]\n",
      " 86631 74% [24790, 69512, 81330, 39194, 80843, 64660, 8391]\n",
      "516667 71% [81945, 81330, 79749, 24790, 64660, 8391]\n",
      "484786 71% [24790, 8391, 64660, 81945, 79749, 62104, 81330]\n",
      "547229 69% [64660, 81330, 80843, 62104]\n",
      "278090 69% [81945, 81330, 62104, 79749, 69512, 64660, 24790, 8391]\n",
      "353569 68% [64660, 8391, 24790, 62104, 81945, 79749, 80843]\n",
      "523250 68% [81330, 64660, 79749, 81945, 69512, 24790]\n",
      "668574 66% [81330, 79749, 24790, 81945, 64660]\n",
      "493567 66% [81945, 81330, 24790, 69512]\n",
      "Time Cost: 55.01s\n",
      "MSE of User Vector: 0.53\n"
     ]
    }
   ],
   "source": [
    "evalEatingMateRecomd(400, test_ratings, trainModel)"
   ]
  },
  {
   "cell_type": "markdown",
   "metadata": {},
   "source": [
    "## Evaluation"
   ]
  },
  {
   "cell_type": "markdown",
   "metadata": {},
   "source": [
    "### Friends list of User 9"
   ]
  },
  {
   "cell_type": "code",
   "execution_count": 46,
   "metadata": {
    "collapsed": false
   },
   "outputs": [
    {
     "data": {
      "text/plain": [
       "79"
      ]
     },
     "execution_count": 46,
     "metadata": {},
     "output_type": "execute_result"
    }
   ],
   "source": [
    "# Friends of User 9\n",
    "friends = [2, 3, 466, 2141, 3587, 4043, 12840, 13866, 22447, 23636, 208888, 213233, 83682, 164654, 449598, 651072, 272274, 350958, 313860, 335183, 346899, 360696, 172400, 382269, 165575, 392534, 493566, 479112, 606539, 651724, 103245, 676122, 642526, 498303, 520182, 602193, 605821, 656609, 287720, 462134, 81991, 227902, 219928, 220376, 497194, 542947, 674672, 21094, 171797, 208358, 419478, 230047, 178452, 566913, 673854, 140296, 438499, 448999, 476155, 376394, 614785, 351478, 558378, 558666, 130302, 522346, 530471, 615818, 667789, 443120, 504583, 6751, 27953, 132705, 115644, 116184, 462175, 491307, 346313]\n",
    "len(friends)"
   ]
  },
  {
   "cell_type": "markdown",
   "metadata": {},
   "source": [
    "### Count the similarity between user and his friends"
   ]
  },
  {
   "cell_type": "code",
   "execution_count": 47,
   "metadata": {
    "collapsed": false
   },
   "outputs": [
    {
     "name": "stdout",
     "output_type": "stream",
     "text": [
      "[27, 57, 67, 25, 37, 22, 0, 31, 0, 0, 12, 0, 40, 46, 7, 0, 51, 44, 0, 0, 28, 2, 0, 0, 12, 28, 0, 47, 9, 3, 38, 26, 20, 0, 11, 6, 0, 21, 11, 20, 0, 6, 0, 30, 20, 0, 26, 0, 0, 0, 15, 0, 0, 45, 0, 19, 0, 0, 13, 20, 30, 16, 1, 0, 29, 2, 0, 14, 0, 0, 0, 0, 0, 10, 9, 0]\n"
     ]
    }
   ],
   "source": [
    "vu, err = getPredictedUserFeature(9, test_ratings, vBusiness)\n",
    "sims = []\n",
    "for fid in friends:\n",
    "    if fid <= 1000: continue\n",
    "    vf = getUserFeature(vUser, fid)\n",
    "    dv = np.linalg.norm(vu-vf)\n",
    "    sims.append( int(100 * getSimilarity(dv, vu)) )\n",
    "print sims"
   ]
  },
  {
   "cell_type": "code",
   "execution_count": 48,
   "metadata": {
    "collapsed": false
   },
   "outputs": [
    {
     "data": {
      "text/plain": [
       "(array([40, 10, 13,  5,  5,  2,  1,  0,  0,  0]),\n",
       " array([  0,  10,  20,  30,  40,  50,  60,  70,  80,  90, 100]))"
      ]
     },
     "execution_count": 48,
     "metadata": {},
     "output_type": "execute_result"
    }
   ],
   "source": [
    "hist = np.histogram(sims, np.arange(0, 110, 10))\n",
    "hist"
   ]
  },
  {
   "cell_type": "markdown",
   "metadata": {},
   "source": [
    "### Histogram"
   ]
  },
  {
   "cell_type": "code",
   "execution_count": 49,
   "metadata": {
    "collapsed": false
   },
   "outputs": [
    {
     "name": "stdout",
     "output_type": "stream",
     "text": [
      " 0 ~  10 :  50.00%\n",
      "10 ~  20 :  12.00%\n",
      "20 ~  30 :  16.00%\n",
      "30 ~  40 :   6.00%\n",
      "40 ~  50 :   6.00%\n",
      "50 ~  60 :   2.00%\n",
      "60 ~  70 :   1.00%\n",
      "70 ~  80 :   0.00%\n",
      "80 ~  90 :   0.00%\n",
      "90 ~ 100 :   0.00%\n"
     ]
    }
   ],
   "source": [
    "for i in range(10):\n",
    "    print \"%2d ~ %3d : %6.2f%%\"%(i*10, (i+1)*10, 100*hist[0][i]/79)"
   ]
  },
  {
   "cell_type": "markdown",
   "metadata": {},
   "source": [
    "# Filter"
   ]
  },
  {
   "cell_type": "code",
   "execution_count": 40,
   "metadata": {
    "collapsed": true
   },
   "outputs": [],
   "source": [
    "vUser = trainModel.userFeatures().cache()\n",
    "vBusiness = trainModel.productFeatures().cache()"
   ]
  },
  {
   "cell_type": "code",
   "execution_count": 45,
   "metadata": {
    "collapsed": true
   },
   "outputs": [],
   "source": [
    "user_id_map = {}\n",
    "business_id_map = {}\n",
    "\n",
    "with open(\"data/user_map.jl\", 'r') as f:\n",
    "    for line in f:\n",
    "        [lid, sit] = json.loads(line)\n",
    "        user_id_map[sit] = lid\n",
    "f.close()\n",
    "\n",
    "with open(\"data/business_map.jl\", 'r') as f:\n",
    "    for line in f:\n",
    "        [lid, sit] = json.loads(line)\n",
    "        business_id_map[sit] = lid\n",
    "f.close()"
   ]
  },
  {
   "cell_type": "code",
   "execution_count": 56,
   "metadata": {
    "collapsed": true
   },
   "outputs": [],
   "source": [
    "def searchForUser(uid):\n",
    "    lid = user_id_map[uid]\n",
    "    res = {}\n",
    "    with open(\"data/yelp_dataset_challenge_academic_dataset/yelp_academic_dataset_user.json\", 'r') as f:\n",
    "        for line in f:\n",
    "            tmp = json.loads(line)\n",
    "            if lid == tmp['user_id']:\n",
    "                res = tmp\n",
    "                break\n",
    "    f.close()\n",
    "    return res\n",
    "\n",
    "def searchForBusiness(uid):\n",
    "    lid = user_id_map[uid]\n",
    "    res = {}\n",
    "    with open(\"data/yelp_dataset_challenge_academic_dataset/yelp_academic_dataset_user.json\", 'r') as f:\n",
    "        for line in f:\n",
    "            tmp = json.loads(line)\n",
    "            if lid == tmp['user_id']:\n",
    "                res = tmp\n",
    "                break\n",
    "    f.close()\n",
    "    return res"
   ]
  },
  {
   "cell_type": "code",
   "execution_count": 59,
   "metadata": {
    "collapsed": false
   },
   "outputs": [
    {
     "data": {
      "text/plain": [
       "{u'average_stars': 3.59,\n",
       " u'compliments': {u'cool': 5,\n",
       "  u'cute': 1,\n",
       "  u'funny': 8,\n",
       "  u'hot': 5,\n",
       "  u'more': 2,\n",
       "  u'note': 3,\n",
       "  u'photos': 1,\n",
       "  u'plain': 5,\n",
       "  u'profile': 1,\n",
       "  u'writer': 3},\n",
       " u'elite': [],\n",
       " u'fans': 7,\n",
       " u'friends': [u'rpOyqD_893cqmDAtJLbdog',\n",
       "  u'4U9kSBLuBDU391x6bxU-YA',\n",
       "  u'Re447krbp0VQVX3Dk4Tsog',\n",
       "  u'kJc9YBRwmmZ_PG0uLHuEPQ',\n",
       "  u'Rir-YRPPClKXDFQbc3BsVw',\n",
       "  u'zTWH9b_ItSdLOK9ypeFOIw',\n",
       "  u'eCSCS17Y7Ie-_a6RmQgUJg',\n",
       "  u'ZZ6WSb99R7kVHfFW8XG6TA',\n",
       "  u'CA1CSw_uiapPotkJC9hXAQ',\n",
       "  u'LdcJrVMG-oP_V9_jZGprfQ',\n",
       "  u'R7-OHW_M_V4lYGbIT2hetQ',\n",
       "  u'2TN0paDJnWx4FmYClFdErQ',\n",
       "  u'JT5kM6wRwh7cNt8IAuX_sw',\n",
       "  u'RZwkUvViHYEh5Z65--cVZw',\n",
       "  u'Ie7tbGC1cG2OLfAaNqs62A',\n",
       "  u'u00EOkApqyRP9YLlI90TKA',\n",
       "  u'psf7Etrt3azIdhMhoPKmpA',\n",
       "  u'h_TlJAgBfSXG4Yw7rkC1Kg',\n",
       "  u'BfCysDOVY3lV6WSEYb92EQ',\n",
       "  u'Mx-vxv_V-SQCe76w4RmUfA',\n",
       "  u'WnI89yU2-swqftb0PW-0xQ',\n",
       "  u'N7gupqGZWhTYlTr_wuMI1Q',\n",
       "  u'9Ecy5YOkAyDv42tSNRxAlg',\n",
       "  u'FK5idBTeUebFuvfQMSSVJg',\n",
       "  u'LyQjgcpgL2rz_QH3cLFz8Q',\n",
       "  u'2uk4R74YwMeBQFFnWj5HQQ',\n",
       "  u'lXhOAP6ncg9ENgA9ln_ijA',\n",
       "  u'WNScBWfp2nYcR87rjW0BGw',\n",
       "  u'ylg8C8GDRGpFn9WLQQaxuw',\n",
       "  u'0r9yLQkxwcdutak6uKiCaQ',\n",
       "  u'E7wgX0rRA8eZc_8uLdn89A',\n",
       "  u'FVs8Vdu3uX8LXNyBvNwThQ',\n",
       "  u'_-W0caBilETBPJIlIqbKSQ',\n",
       "  u'Laf7bSP5sUVmNSTDwOuKnQ',\n",
       "  u'VwFpfd9ueAbSAvwwH85-6Q',\n",
       "  u'M8ybpL8HLve8aujiDaJbXQ',\n",
       "  u'4ksgtLakWXrD66G-M1bSgQ',\n",
       "  u'fsQY1oNoFi24CI-UlXKzcQ',\n",
       "  u'6woWVlQ0jZL1_ncCYcc1QA',\n",
       "  u'kLEhwHo9PrCOTz-5if1sNg',\n",
       "  u'S3EDROr7Dr5EpJawwJ2zQQ',\n",
       "  u'kBnrS4xgY4pI-VxdpNSVSw',\n",
       "  u'0GUkusbjCOTzeNOM1m-94w',\n",
       "  u'ANetBXp0CdITDGhp17huGQ',\n",
       "  u'wJzdnOB1qcz1Sc_-L1ppag',\n",
       "  u'iZkGpLxDooIvqj96CS9BNg',\n",
       "  u'43WQN_FXtzMDYHUqMeaoTA',\n",
       "  u'_fRSvzUs8jq45B79r2xTMg',\n",
       "  u'RTnNGiTz2_EtTUtHGw7IYg',\n",
       "  u'XACIveCXETiTLHoHC4_ujw',\n",
       "  u'x3G-ZnbYzcFK3n2-8havGw',\n",
       "  u'3nKW07v5Ot1WkDESYHOgJA',\n",
       "  u'2KlifA_kfR5oFz0Trdhkqg',\n",
       "  u'KqikFMETiGM7Z_Y_saqDKQ',\n",
       "  u'iYZryFNiuUJmkbTSttoKNg',\n",
       "  u'GpPKhPQ3mMX1_NJRLYcVrQ',\n",
       "  u'x0WM36EZTgHX6qsjkC7biQ',\n",
       "  u'lkoNURDbmFGiurItJSJVPQ',\n",
       "  u'5RnbfR0X9_a6RIKrxZpouA',\n",
       "  u'JXVR0GLCD0r85-16x6DFAA',\n",
       "  u'WEu2ujEVDoUhUMRqQUmKWA',\n",
       "  u'Xw7m6ZhcOa2ExpjlSlMqLA',\n",
       "  u'EgJY2wlK6C-GE7qcSwjmfQ',\n",
       "  u'bRb1Q4C2MFfHhF0j-87hUQ',\n",
       "  u'IJKRrBlAU0M-j3XODBJGmg',\n",
       "  u'9CBXjGfoEYX2pdoOqgsquw',\n",
       "  u'lXf8sHZKRMlWaZP9ZnxqGw',\n",
       "  u'2Kvx__iA0eCwfrLwUM51uQ',\n",
       "  u'Uit36Im3P_72ze8oS28jHw',\n",
       "  u'iEjYwzHPOaiwQ-GZUfHYnA',\n",
       "  u'cXVG7LIKO7EvMgYYPE0EZg',\n",
       "  u'l_YItp1iN6OLzA4c4eg6bg',\n",
       "  u'jvsDq5JqwkTymRIZXWM5Rg',\n",
       "  u'9pJyJPZd2AgXEeHc3Ngq4Q',\n",
       "  u'mS1_iMFD7UJTGuihQBM9Nw',\n",
       "  u'kitvIQV0D0nRcxS9c7OIcw',\n",
       "  u'W3VwuJNsIcDp3iTM2XnoNw',\n",
       "  u'M1MKXD6CcaFO5mndI_h_Vg',\n",
       "  u'go3_RCCCZBDTL_NPiWxVqA'],\n",
       " u'name': u'Nader',\n",
       " u'review_count': 102,\n",
       " u'type': u'user',\n",
       " u'user_id': u'UTS9XcT14H2ZscRIf0MYHQ',\n",
       " u'votes': {u'cool': 52, u'funny': 58, u'useful': 251},\n",
       " u'yelping_since': u'2004-10'}"
      ]
     },
     "execution_count": 59,
     "metadata": {},
     "output_type": "execute_result"
    }
   ],
   "source": [
    "searchForUser(9)"
   ]
  },
  {
   "cell_type": "code",
   "execution_count": null,
   "metadata": {
    "collapsed": true
   },
   "outputs": [],
   "source": []
  }
 ],
 "metadata": {
  "anaconda-cloud": {},
  "kernelspec": {
   "display_name": "Python [py2]",
   "language": "python",
   "name": "Python [py2]"
  },
  "language_info": {
   "codemirror_mode": {
    "name": "ipython",
    "version": 2
   },
   "file_extension": ".py",
   "mimetype": "text/x-python",
   "name": "python",
   "nbconvert_exporter": "python",
   "pygments_lexer": "ipython2",
   "version": "2.7.12"
  }
 },
 "nbformat": 4,
 "nbformat_minor": 0
}
